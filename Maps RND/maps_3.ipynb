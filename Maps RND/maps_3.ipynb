{
 "cells": [
  {
   "cell_type": "code",
   "execution_count": null,
   "metadata": {},
   "outputs": [],
   "source": []
  },
  {
   "cell_type": "markdown",
   "metadata": {},
   "source": [
    "### Parallel response from api"
   ]
  },
  {
   "cell_type": "code",
   "execution_count": 21,
   "metadata": {},
   "outputs": [],
   "source": [
    "places_api_key = \"your google places api key\"\n",
    "geocoding_api = \"your google geocoding api key\""
   ]
  },
  {
   "cell_type": "code",
   "execution_count": 3,
   "metadata": {},
   "outputs": [],
   "source": [
    "import requests\n",
    "from urllib.parse import urlencode\n",
    "from math import radians, cos, sin, asin, sqrt\n",
    "from shapely.geometry import Point\n",
    "from shapely.geometry.polygon import Polygon"
   ]
  },
  {
   "cell_type": "code",
   "execution_count": 11,
   "metadata": {},
   "outputs": [],
   "source": [
    "def distance(lat1, lon1, lat2, lon2):\n",
    "\n",
    "    # The math module contains a function named\n",
    "    # radians which converts from degrees to radians.\n",
    "    lon1 = radians(lon1)\n",
    "    lon2 = radians(lon2)\n",
    "    lat1 = radians(lat1)\n",
    "    lat2 = radians(lat2)\n",
    "    \n",
    "    # Haversine formula\n",
    "    dlon = lon2 - lon1\n",
    "    dlat = lat2 - lat1\n",
    "    a = sin(dlat / 2)**2 + cos(lat1) * cos(lat2) * sin(dlon / 2)**2\n",
    "\n",
    "    c = 2 * asin(sqrt(a))\n",
    "    \n",
    "    # Radius of earth in kilometers. Use 3956 for miles\n",
    "    r = 6371\n",
    "    \n",
    "    # calculate the result\n",
    "    return(c * r)"
   ]
  },
  {
   "cell_type": "code",
   "execution_count": 12,
   "metadata": {},
   "outputs": [
    {
     "name": "stdout",
     "output_type": "stream",
     "text": [
      "lat1 radian 0.4156801810255839\n"
     ]
    },
    {
     "data": {
      "text/plain": [
       "3.2206380063167432"
      ]
     },
     "execution_count": 12,
     "metadata": {},
     "output_type": "execute_result"
    }
   ],
   "source": [
    "####### distance measurement\n",
    "\n",
    "distance(23.81672, 90.39605999999999, 23.81672, 90.3644)"
   ]
  },
  {
   "cell_type": "code",
   "execution_count": 24,
   "metadata": {},
   "outputs": [],
   "source": [
    "def extract_lat_lng(address_or_postalcode, data_type = 'json'):\n",
    "    endpoint = f\"https://maps.googleapis.com/maps/api/geocode/{data_type}\"\n",
    "    params = {\"address\": address_or_postalcode, \"key\": geocoding_api}\n",
    "    url_params = urlencode(params)\n",
    "    url = f\"{endpoint}?{url_params}\"\n",
    "    r = requests.get(url)\n",
    "    if r.status_code not in range(200, 299): \n",
    "        return {}\n",
    "    latlng = {}\n",
    "    try:\n",
    "        latlng = r.json()['results'][0]['geometry']['location']\n",
    "    except:\n",
    "        pass\n",
    "    return latlng.get(\"lat\"), latlng.get(\"lng\")"
   ]
  },
  {
   "cell_type": "code",
   "execution_count": 25,
   "metadata": {},
   "outputs": [],
   "source": [
    "def search_places(place_type, searching_radius, lat, lng):\n",
    "    base_endpoint_places = \"https://maps.googleapis.com/maps/api/place/findplacefromtext/json\"\n",
    "    params = {\n",
    "        \"key\": places_api_key,\n",
    "        \"input\": place_type,\n",
    "        \"inputtype\": \"textquery\",\n",
    "        \"fields\": \"place_id,formatted_address,name,geometry,permanently_closed\"\n",
    "    }\n",
    "    locationbias = f\"point:{lat},{lng}\"\n",
    "    use_cirular = True\n",
    "    if use_cirular:\n",
    "        radius = searching_radius\n",
    "        locationbias = f\"circle:{radius}@{lat},{lng}\"\n",
    "\n",
    "    params['locationbias'] = locationbias\n",
    "\n",
    "    params_encoded = urlencode(params)\n",
    "    places_endpoint = f\"{base_endpoint_places}?{params_encoded}\"\n",
    "    # print(places_endpoint)\n",
    "\n",
    "    r = requests.get(places_endpoint)\n",
    "    # print(r.status_code)\n",
    "    return r.json()"
   ]
  },
  {
   "cell_type": "code",
   "execution_count": 26,
   "metadata": {},
   "outputs": [],
   "source": [
    "def rectangle_four_coordinates(midpoint_lat, midpoint_lng):\n",
    "    rightupperpoint_lat, rightupperpoint_lng = midpoint_lat+0.02500, midpoint_lng+0.01583\n",
    "    upperleftpoint_lat, upperleftpoint_lng = midpoint_lat+0.02500, midpoint_lng-0.01583\n",
    "    leftdownpoint_lat, leftdownpoint_lng = midpoint_lat-0.01357, midpoint_lng-0.01583\n",
    "    downrightpoint_lat, downrightpoint_lng = midpoint_lat-0.01357, midpoint_lng+0.01583\n",
    "\n",
    "    return rightupperpoint_lat, rightupperpoint_lng, upperleftpoint_lat, upperleftpoint_lng,  leftdownpoint_lat, leftdownpoint_lng, downrightpoint_lat, downrightpoint_lng"
   ]
  },
  {
   "cell_type": "code",
   "execution_count": 27,
   "metadata": {},
   "outputs": [
    {
     "name": "stdout",
     "output_type": "stream",
     "text": [
      "23.81672 90.39605999999999 23.81672 90.3644 23.77815 90.3644 23.77815 90.39605999999999\n"
     ]
    }
   ],
   "source": [
    "midpoint_lat, midpoint_lng = 23.79172, 90.38023\n",
    "\n",
    "rightupperpoint_lat, rightupperpoint_lng, upperleftpoint_lat, upperleftpoint_lng,  leftdownpoint_lat, leftdownpoint_lng, downrightpoint_lat, downrightpoint_lng = rectangle_four_coordinates(midpoint_lat, midpoint_lng)\n",
    "\n",
    "print(rightupperpoint_lat, rightupperpoint_lng, upperleftpoint_lat, upperleftpoint_lng,  leftdownpoint_lat, leftdownpoint_lng, downrightpoint_lat, downrightpoint_lng)"
   ]
  },
  {
   "cell_type": "code",
   "execution_count": 50,
   "metadata": {},
   "outputs": [],
   "source": [
    "def geofencing(location):\n",
    "    polygon = Polygon([\n",
    "        (rightupperpoint_lat, rightupperpoint_lng),\n",
    "        (upperleftpoint_lat, upperleftpoint_lng),\n",
    "        (leftdownpoint_lat, leftdownpoint_lng),\n",
    "        (downrightpoint_lat, downrightpoint_lng),\n",
    "        (rightupperpoint_lat, rightupperpoint_lng)\n",
    "    ])\n",
    "    # print(\"############\", i)\n",
    "    point = Point(location)\n",
    "\n",
    "    if polygon.contains(point):\n",
    "        return point.x, point.y\n",
    "    "
   ]
  },
  {
   "cell_type": "code",
   "execution_count": 53,
   "metadata": {},
   "outputs": [
    {
     "name": "stdout",
     "output_type": "stream",
     "text": [
      "box_inner_locations None\n",
      "Print loc: None\n",
      "box_inner_locations (23.7928489, 90.37749409999999)\n",
      "Print loc: (23.7928489, 90.37749409999999)\n",
      "box_inner_locations (23.7928489, 90.37749409999999)\n",
      "Print loc: (23.7928489, 90.37749409999999)\n",
      "box_inner_locations (23.7914582, 90.37499489999999)\n",
      "Print loc: (23.7914582, 90.37499489999999)\n",
      "box_inner_locations (23.7877396, 90.38651759999999)\n",
      "Print loc: (23.7877396, 90.38651759999999)\n",
      "box_inner_locations (23.7877396, 90.38651759999999)\n",
      "Print loc: (23.7877396, 90.38651759999999)\n",
      "box_inner_locations (23.7877396, 90.38651759999999)\n",
      "Print loc: (23.7877396, 90.38651759999999)\n",
      "box_inner_locations (23.7877396, 90.38651759999999)\n",
      "Print loc: (23.7877396, 90.38651759999999)\n",
      "box_inner_locations (23.7877396, 90.38651759999999)\n",
      "Print loc: (23.7877396, 90.38651759999999)\n",
      "box_inner_locations (23.7877396, 90.38651759999999)\n",
      "Print loc: (23.7877396, 90.38651759999999)\n",
      "box_inner_locations (23.7877396, 90.38651759999999)\n",
      "Print loc: (23.7877396, 90.38651759999999)\n",
      "box_inner_locations (23.7877396, 90.38651759999999)\n",
      "Print loc: (23.7877396, 90.38651759999999)\n",
      "box_inner_locations (23.7877396, 90.38651759999999)\n",
      "Print loc: (23.7877396, 90.38651759999999)\n",
      "box_inner_locations (23.7877396, 90.38651759999999)\n",
      "Print loc: (23.7877396, 90.38651759999999)\n",
      "box_inner_locations None\n",
      "Print loc: None\n",
      "box_inner_locations None\n",
      "Print loc: None\n",
      "box_inner_locations None\n",
      "Print loc: None\n"
     ]
    }
   ],
   "source": [
    "from logging import exception\n",
    "\n",
    "\n",
    "place_type = ['mosque']\n",
    "searching_radius = 3400 #meters\n",
    "\n",
    "# place = set()\n",
    "locations = dict()\n",
    "\n",
    "for i in range(0,searching_radius,200):\n",
    "    for type in place_type:\n",
    "        place_name = search_places(type, i, midpoint_lat, midpoint_lng)\n",
    "        # print(\"Place Name: \", place_name)\n",
    "        try:\n",
    "            place = place_name['candidates'][0]['name']\n",
    "            place = place+', Bangladesh'\n",
    "            # print(place)\n",
    "            location = extract_lat_lng(place)\n",
    "            # print(\"location:::::\",location)\n",
    "            # print(type(location))\n",
    "            # print(f'locations[0]: {locations[0]},location[1]: {location[1]}')\n",
    "            # for i,j in location:\n",
    "            #     print(f\"{i},{j}\")\n",
    "            box_inner_locations = geofencing(location)\n",
    "            \n",
    "\n",
    "            print(\"box_inner_locations\", box_inner_locations)\n",
    "            loc = locations.get(box_inner_locations, -1)\n",
    "            print(\"Print loc:\",box_inner_locations)\n",
    "            if loc == -1 and box_inner_locations:\n",
    "                locations[box_inner_locations] = box_inner_locations\n",
    "            else:\n",
    "                pass\n",
    "        except Exception as e:\n",
    "            print(e)\n",
    "            # pass\n",
    "            \n",
    "        # schools.add(school_name+\", Bangladesh\")\n",
    "\n",
    "        \n",
    "        # print(locations)\n"
   ]
  },
  {
   "cell_type": "code",
   "execution_count": 54,
   "metadata": {},
   "outputs": [
    {
     "name": "stdout",
     "output_type": "stream",
     "text": [
      "{(23.7928489, 90.37749409999999): (23.7928489, 90.37749409999999), (23.7914582, 90.37499489999999): (23.7914582, 90.37499489999999), (23.7877396, 90.38651759999999): (23.7877396, 90.38651759999999)}\n"
     ]
    }
   ],
   "source": [
    "print(locations)"
   ]
  },
  {
   "cell_type": "code",
   "execution_count": null,
   "metadata": {},
   "outputs": [],
   "source": []
  }
 ],
 "metadata": {
  "kernelspec": {
   "display_name": "Python 3.7.11 ('location_data')",
   "language": "python",
   "name": "python3"
  },
  "language_info": {
   "codemirror_mode": {
    "name": "ipython",
    "version": 3
   },
   "file_extension": ".py",
   "mimetype": "text/x-python",
   "name": "python",
   "nbconvert_exporter": "python",
   "pygments_lexer": "ipython3",
   "version": "3.7.11"
  },
  "orig_nbformat": 4,
  "vscode": {
   "interpreter": {
    "hash": "6ccbf86db905f9d90be95b66d4adbe584728149ed17e7494391c8db87acd5c97"
   }
  }
 },
 "nbformat": 4,
 "nbformat_minor": 2
}
