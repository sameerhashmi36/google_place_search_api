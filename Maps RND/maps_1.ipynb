{
 "cells": [
  {
   "cell_type": "code",
   "execution_count": 2,
   "metadata": {},
   "outputs": [],
   "source": [
    "api_key = \"your-api-key\""
   ]
  },
  {
   "cell_type": "code",
   "execution_count": 3,
   "metadata": {},
   "outputs": [],
   "source": [
    "import requests\n",
    "from urllib.parse import urlencode"
   ]
  },
  {
   "cell_type": "code",
   "execution_count": 19,
   "metadata": {},
   "outputs": [],
   "source": [
    "from math import radians, cos, sin, asin, sqrt\n",
    "def distance(lat1, lon1, lat2, lon2):\n",
    "\n",
    "    # The math module contains a function named\n",
    "    # radians which converts from degrees to radians.\n",
    "    lon1 = radians(lon1)\n",
    "    lon2 = radians(lon2)\n",
    "    lat1 = radians(lat1)\n",
    "    lat2 = radians(lat2)\n",
    "    \n",
    "    # Haversine formula\n",
    "    dlon = lon2 - lon1\n",
    "    dlat = lat2 - lat1\n",
    "    a = sin(dlat / 2)**2 + cos(lat1) * cos(lat2) * sin(dlon / 2)**2\n",
    "\n",
    "    c = 2 * asin(sqrt(a))\n",
    "    \n",
    "    # Radius of earth in kilometers. Use 3956 for miles\n",
    "    r = 6371\n",
    "    \n",
    "    # calculate the result\n",
    "    return(c * r)"
   ]
  },
  {
   "cell_type": "code",
   "execution_count": 20,
   "metadata": {},
   "outputs": [
    {
     "data": {
      "text/plain": [
       "{'lat': 23.8128042, 'lng': 90.3663785}"
      ]
     },
     "execution_count": 20,
     "metadata": {},
     "output_type": "execute_result"
    }
   ],
   "source": [
    "def extract_lat_lng_rnd(address_or_postalcode, data_type = 'json'):\n",
    "    endpoint = f\"https://maps.googleapis.com/maps/api/geocode/{data_type}\"\n",
    "    params = {\"address\": address_or_postalcode, \"key\": api_key}\n",
    "    url_params = urlencode(params)\n",
    "    url = f\"{endpoint}?{url_params}\"\n",
    "    r = requests.get(url)\n",
    "    if r.status_code not in range(200, 299): \n",
    "        return {}\n",
    "    return r.json()['results'][0]['geometry'][\"location\"]\n",
    "\n",
    "extract_lat_lng_rnd(\"NybSys Pvt. Ltd, Dhaka\")"
   ]
  },
  {
   "cell_type": "code",
   "execution_count": 21,
   "metadata": {},
   "outputs": [],
   "source": [
    "def extract_lat_lng(address_or_postalcode, data_type = 'json'):\n",
    "    endpoint = f\"https://maps.googleapis.com/maps/api/geocode/{data_type}\"\n",
    "    params = {\"address\": address_or_postalcode, \"key\": api_key}\n",
    "    url_params = urlencode(params)\n",
    "    url = f\"{endpoint}?{url_params}\"\n",
    "    r = requests.get(url)\n",
    "    if r.status_code not in range(200, 299): \n",
    "        return {}\n",
    "    latlng = {}\n",
    "    try:\n",
    "        latlng = r.json()['results'][0]['geometry']['location']\n",
    "    except:\n",
    "        pass\n",
    "    return latlng.get(\"lat\"), latlng.get(\"lng\")"
   ]
  },
  {
   "cell_type": "code",
   "execution_count": 22,
   "metadata": {},
   "outputs": [
    {
     "data": {
      "text/plain": [
       "(23.8128042, 90.3663785)"
      ]
     },
     "execution_count": 22,
     "metadata": {},
     "output_type": "execute_result"
    }
   ],
   "source": [
    "extract_lat_lng(\"NybSys Pvt. Ltd, Dhaka\")"
   ]
  },
  {
   "cell_type": "markdown",
   "metadata": {},
   "source": [
    "### Places API"
   ]
  },
  {
   "cell_type": "code",
   "execution_count": 23,
   "metadata": {},
   "outputs": [],
   "source": [
    "def search_places(place_type, searching_radius, lat, lng):\n",
    "    base_endpoint_places = \"https://maps.googleapis.com/maps/api/place/findplacefromtext/json\"\n",
    "    params = {\n",
    "        \"key\": api_key,\n",
    "        \"input\": place_type,\n",
    "        \"inputtype\": \"textquery\",\n",
    "        \"fields\": \"place_id,formatted_address,name,geometry,permanently_closed\"\n",
    "    }\n",
    "    locationbias = f\"point:{lat},{lng}\"\n",
    "    use_cirular = True\n",
    "    if use_cirular:\n",
    "        radius = searching_radius\n",
    "        locationbias = f\"circle:{radius}@{lat},{lng}\"\n",
    "\n",
    "    params['locationbias'] = locationbias\n",
    "\n",
    "    params_encoded = urlencode(params)\n",
    "    places_endpoint = f\"{base_endpoint_places}?{params_encoded}\"\n",
    "    # print(places_endpoint)\n",
    "\n",
    "    r = requests.get(places_endpoint)\n",
    "    # print(r.status_code)\n",
    "    return r.json()"
   ]
  },
  {
   "cell_type": "code",
   "execution_count": 24,
   "metadata": {},
   "outputs": [
    {
     "name": "stdout",
     "output_type": "stream",
     "text": [
      "{'Mirza International School, Bangladesh', 'মুসলিম মডার্ন একাডেমি, Bangladesh', 'Green Dale International School, Bangladesh', 'Mount Hermann High School and Day Care, Bangladesh', 'আদমজী ক্যান্টনমেন্ট পাবলিক স্কুল খেলার মাঠ, Bangladesh', 'Scholar International School, Bangladesh', 'স্যার জন উইলসন স্কুল, Bangladesh', 'নিউ স্কুল ঢাকা, Bangladesh', 'গুলশান মডেল উচ্চ মাধ্যমিক বিদ্যালয় (স্কুল এন্ড কলেজ), Bangladesh', 'আদমজী ক্যান্টনমেন্ট পাবলিক স্কুল, Bangladesh'}\n",
      "10\n"
     ]
    }
   ],
   "source": [
    "lat1, lng1 = 23.79169, 90.39023\n",
    "place_type = \"school\"\n",
    "searching_radius = 3000 #meters\n",
    "\n",
    "schools = set()\n",
    "\n",
    "for i in range(0,searching_radius,100):\n",
    "    place_name = search_places(place_type, i, lat1, lng1)\n",
    "    # print(\"Place Name: \", place_name)\n",
    "    try:\n",
    "        school_name = place_name['candidates'][0]['name']\n",
    "    except:\n",
    "        print(i)\n",
    "    schools.add(school_name+\", Bangladesh\")\n",
    "print(schools)\n",
    "print(len(schools))\n",
    "    # print(f\"School {school_name} in radius {i}\")\n"
   ]
  },
  {
   "cell_type": "code",
   "execution_count": 25,
   "metadata": {},
   "outputs": [
    {
     "name": "stdout",
     "output_type": "stream",
     "text": [
      "(23.8030277, 90.41503929999999)\n"
     ]
    }
   ],
   "source": [
    "school_name = 'স্যার জন উইলসন স্কুল'\n",
    "lat_lng = extract_lat_lng(school_name)\n",
    "print(lat_lng)\n",
    "lat2 = lat_lng[0]\n",
    "lng2 = lat_lng[1]"
   ]
  },
  {
   "cell_type": "code",
   "execution_count": 26,
   "metadata": {},
   "outputs": [
    {
     "name": "stdout",
     "output_type": "stream",
     "text": [
      "2.8214430131414656 K.M\n"
     ]
    }
   ],
   "source": [
    "print(distance(lat1, lng1, lat2, lng2), \"K.M\")"
   ]
  },
  {
   "cell_type": "code",
   "execution_count": 12,
   "metadata": {},
   "outputs": [
    {
     "name": "stdout",
     "output_type": "stream",
     "text": [
      "Mirza International School, Bangladesh\n",
      "মুসলিম মডার্ন একাডেমি, Bangladesh\n",
      "Green Dale International School, Bangladesh\n",
      "Mount Hermann High School and Day Care, Bangladesh\n",
      "আদমজী ক্যান্টনমেন্ট পাবলিক স্কুল খেলার মাঠ, Bangladesh\n",
      "Scholar International School, Bangladesh\n",
      "স্যার জন উইলসন স্কুল, Bangladesh\n",
      "নিউ স্কুল ঢাকা, Bangladesh\n",
      "আদমজী ক্যান্টনমেন্ট পাবলিক স্কুল, Bangladesh\n"
     ]
    }
   ],
   "source": [
    "for i, s in enumerate(schools):\n",
    "    print(s)"
   ]
  },
  {
   "cell_type": "markdown",
   "metadata": {},
   "source": [
    "### Distance measurment for the 4 points"
   ]
  },
  {
   "cell_type": "code",
   "execution_count": 17,
   "metadata": {},
   "outputs": [],
   "source": [
    "midpoint_lat1, midpoint_lng1 = 23.79172, 90.38023\n",
    "rightup_lat2, rightup_lng2 = 23.81145, 90.40034\n",
    "leftup_lat3, leftup_lng3 = 23.81046, 90.35901\n",
    "leftdown_lat4, leftdown_lng4 = 23.77263, 90.35938\n",
    "rightdown_lat5, rightdown_lng5 = 23.77263, 90.40107"
   ]
  },
  {
   "cell_type": "code",
   "execution_count": 28,
   "metadata": {},
   "outputs": [
    {
     "name": "stdout",
     "output_type": "stream",
     "text": [
      "4.3172260071045025 K.M\n"
     ]
    }
   ],
   "source": [
    "print(distance(rightup_lat2, rightup_lng2, rightdown_lat5, rightdown_lng5), \"K.M\")"
   ]
  },
  {
   "cell_type": "code",
   "execution_count": 88,
   "metadata": {},
   "outputs": [],
   "source": [
    "from cmath import atan\n",
    "from math import atan2\n",
    "\n",
    "\n",
    "def points(lat1, lng1, Ad, theta):\n",
    "\n",
    "    lat2 = asin(sin(lat1)*cos(Ad) + cos(lat1)*sin(Ad)*cos(theta))\n",
    "\n",
    "    lng2 = lng1 + atan2(sin(theta)*sin(Ad)*cos(lat1), cos(Ad)-sin(lat1)*sin(lat2))\n",
    "\n",
    "    return lat2, lng2\n"
   ]
  },
  {
   "cell_type": "code",
   "execution_count": 90,
   "metadata": {},
   "outputs": [
    {
     "name": "stdout",
     "output_type": "stream",
     "text": [
      "delL:  -25.133139302076223\n",
      "pi:  3.141592653589793\n",
      "X: -0.42460672714131004\n",
      "Y:  -0.386539770642696\n",
      "radian:  -2.309299080849299\n",
      "theta:  47.68690903389489\n",
      "-1.3411488278932007 90.37823934105212\n"
     ]
    }
   ],
   "source": [
    "from cmath import pi\n",
    "import math\n",
    "\n",
    "\n",
    "d = 3\n",
    "radius = 6371\n",
    "Ad = d/radius\n",
    "\n",
    "delL = rightup_lat2 - midpoint_lat1\n",
    "print(\"delL: \",delL)\n",
    "\n",
    "# print(type(midpoint_lat1))\n",
    "# print(type(rightup_lat2))\n",
    "# print(type(cos(rightup_lat2)))\n",
    "# print(type(cos(midpoint_lat1)))\n",
    "# print(type(sin(rightup_lat2)))\n",
    "\n",
    "print(\"pi: \", pi)\n",
    "\n",
    "X = cos(rightup_lat2*(pi/180))*sin(delL*(pi/180))\n",
    "print(\"X:\", X)\n",
    "Y = (cos(midpoint_lat1*(pi/180))*sin(rightup_lat2*(pi/180))) - (sin(midpoint_lat1*(pi/180))*cos(rightup_lat2*(pi/180))*cos(delL*(pi/180)))\n",
    "print(\"Y: \",Y)\n",
    "radian = atan2(X,Y)\n",
    "print(\"radian: \",radian)\n",
    "\n",
    "theta = math.degrees(radian)+180\n",
    "print(\"theta: \",theta)\n",
    "theta = 360 - theta\n",
    "\n",
    "rightup_lat2, rightup_lng2 = points(midpoint_lat1, midpoint_lng1, Ad, theta)\n",
    "\n",
    "print(rightup_lat2, rightup_lng2)"
   ]
  },
  {
   "cell_type": "markdown",
   "metadata": {},
   "source": [
    "### Measuring Distance"
   ]
  },
  {
   "cell_type": "code",
   "execution_count": 91,
   "metadata": {},
   "outputs": [],
   "source": [
    "midpoint_lat, midpoint_lng = 23.79172, 90.38023\n",
    "rightpoint = 23.79172, 90.39497\n",
    "upperpoint = 23.80521, 90.38023\n",
    "leftpoint = 23.79172, 90.36548\n",
    "downpoint = 23.77822, 90.38023"
   ]
  },
  {
   "cell_type": "code",
   "execution_count": 2,
   "metadata": {},
   "outputs": [],
   "source": [
    "def four_coordinates(midpoint_lat, midpoint_lng):\n",
    "    rightpoint_lat, rightpoint_lng = midpoint_lat, midpoint_lng+0.01474\n",
    "    upperpoint_lat, upperpoint_lng = midpoint_lat+0.01349, midpoint_lng\n",
    "    leftpoint_lat, leftpoint_lng = midpoint_lat, midpoint_lng-0.01475\n",
    "    downpoint_lat, downpoint_lng = midpoint_lat-0.0135, midpoint_lng\n",
    "\n",
    "    return rightpoint_lat, rightpoint_lng, upperpoint_lat, upperpoint_lng, leftpoint_lat, leftpoint_lng, downpoint_lat, downpoint_lng\n"
   ]
  },
  {
   "cell_type": "code",
   "execution_count": 5,
   "metadata": {},
   "outputs": [],
   "source": [
    "rightpoint_lat, rightpoint_lng, upperpoint_lat, upperpoint_lng, leftpoint_lat, leftpoint_lng, downpoint_lat, downpoint_lng = four_coordinates(23.84691, 90.38783)"
   ]
  },
  {
   "cell_type": "code",
   "execution_count": 6,
   "metadata": {},
   "outputs": [
    {
     "name": "stdout",
     "output_type": "stream",
     "text": [
      "23.84691 90.40257 23.860400000000002 90.38783 23.84691 90.37307999999999 23.83341 90.38783\n"
     ]
    }
   ],
   "source": [
    "print(rightpoint_lat, rightpoint_lng, upperpoint_lat, upperpoint_lng, leftpoint_lat, leftpoint_lng, downpoint_lat, downpoint_lng)"
   ]
  },
  {
   "cell_type": "code",
   "execution_count": 2,
   "metadata": {},
   "outputs": [],
   "source": [
    "from math import radians, cos, sin, asin, sqrt\n",
    "def distance(lat1, lon1, lat2, lon2):\n",
    "\n",
    "    # The math module contains a function named\n",
    "    # radians which converts from degrees to radians.\n",
    "    lon1 = radians(lon1)\n",
    "    lon2 = radians(lon2)\n",
    "    lat1 = radians(lat1)\n",
    "    lat2 = radians(lat2)\n",
    "    \n",
    "    # Haversine formula\n",
    "    dlon = lon2 - lon1\n",
    "    dlat = lat2 - lat1\n",
    "    a = sin(dlat / 2)**2 + cos(lat1) * cos(lat2) * sin(dlon / 2)**2\n",
    "\n",
    "    c = 2 * asin(sqrt(a))\n",
    "    \n",
    "    # Radius of earth in kilometers. Use 3956 for miles\n",
    "    r = 6371\n",
    "    \n",
    "    # calculate the result\n",
    "    return(c * r)"
   ]
  },
  {
   "cell_type": "code",
   "execution_count": 15,
   "metadata": {},
   "outputs": [
    {
     "data": {
      "text/plain": [
       "3.226009040516717"
      ]
     },
     "execution_count": 15,
     "metadata": {},
     "output_type": "execute_result"
    }
   ],
   "source": [
    "distance(23.8053, 90.36435, 23.80528, 90.39606)"
   ]
  },
  {
   "cell_type": "code",
   "execution_count": 19,
   "metadata": {},
   "outputs": [
    {
     "data": {
      "text/plain": [
       "0.015879999999995675"
      ]
     },
     "execution_count": 19,
     "metadata": {},
     "output_type": "execute_result"
    }
   ],
   "source": [
    "90.38023-90.36435"
   ]
  },
  {
   "cell_type": "code",
   "execution_count": 1,
   "metadata": {},
   "outputs": [],
   "source": [
    "def rectangle_four_coordinates(midpoint_lat, midpoint_lng):\n",
    "    rightupperpoint_lat, rightupperpoint_lng = midpoint_lat+0.01357, midpoint_lng+0.01583\n",
    "    upperleftpoint_lat, upperleftpoint_lng = midpoint_lat+0.01357, midpoint_lng-0.01583\n",
    "    leftdownpoint_lat, leftdownpoint_lng = midpoint_lat-0.01357, midpoint_lng-0.01583\n",
    "    downrightpoint_lat, downrightpoint_lng = midpoint_lat-0.01357, midpoint_lng+0.01583\n",
    "\n",
    "    return rightupperpoint_lat, rightupperpoint_lng, upperleftpoint_lat, upperleftpoint_lng,  leftdownpoint_lat, leftdownpoint_lng, downrightpoint_lat, downrightpoint_lng"
   ]
  },
  {
   "cell_type": "code",
   "execution_count": 3,
   "metadata": {},
   "outputs": [
    {
     "name": "stdout",
     "output_type": "stream",
     "text": [
      "40.00067 -122.90150000000001 40.00067 -122.93316 39.97353 -122.93316 39.97353 -122.90150000000001\n"
     ]
    }
   ],
   "source": [
    "rightupperpoint_lat, rightupperpoint_lng, upperleftpoint_lat, upperleftpoint_lng,  leftdownpoint_lat, leftdownpoint_lng, downrightpoint_lat, downrightpoint_lng = rectangle_four_coordinates(39.9871, -122.91733)\n",
    "\n",
    "print(rightupperpoint_lat, rightupperpoint_lng, upperleftpoint_lat, upperleftpoint_lng,  leftdownpoint_lat, leftdownpoint_lng, downrightpoint_lat, downrightpoint_lng)"
   ]
  },
  {
   "cell_type": "code",
   "execution_count": null,
   "metadata": {},
   "outputs": [],
   "source": []
  },
  {
   "cell_type": "code",
   "execution_count": null,
   "metadata": {},
   "outputs": [],
   "source": []
  }
 ],
 "metadata": {
  "kernelspec": {
   "display_name": "Python 3.7.11 ('location_data')",
   "language": "python",
   "name": "python3"
  },
  "language_info": {
   "codemirror_mode": {
    "name": "ipython",
    "version": 3
   },
   "file_extension": ".py",
   "mimetype": "text/x-python",
   "name": "python",
   "nbconvert_exporter": "python",
   "pygments_lexer": "ipython3",
   "version": "3.7.11"
  },
  "orig_nbformat": 4,
  "vscode": {
   "interpreter": {
    "hash": "6ccbf86db905f9d90be95b66d4adbe584728149ed17e7494391c8db87acd5c97"
   }
  }
 },
 "nbformat": 4,
 "nbformat_minor": 2
}
